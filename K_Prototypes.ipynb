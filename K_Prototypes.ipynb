{
 "cells": [
  {
   "cell_type": "code",
   "execution_count": 2,
   "metadata": {},
   "outputs": [],
   "source": [
    "import pandas as pd\n",
    "import numpy as np\n",
    "from kmodes.kprototypes import KPrototypes\n",
    "import seaborn as sns\n",
    "import matplotlib.pyplot as plt"
   ]
  },
  {
   "cell_type": "code",
   "execution_count": 4,
   "metadata": {},
   "outputs": [],
   "source": [
    "data = pd.read_csv('HCMST_ver_3.04.csv')"
   ]
  },
  {
   "cell_type": "code",
   "execution_count": 6,
   "metadata": {},
   "outputs": [
    {
     "data": {
      "text/plain": [
       "(4002, 9)"
      ]
     },
     "execution_count": 6,
     "metadata": {},
     "output_type": "execute_result"
    }
   ],
   "source": [
    "df_features = data[['ppagecat', 'ppeducat', 'ppgender', 'ppincimp', 'children_in_hh', 'qflag', 'glbstatus', 'married', 'q24_met_online']] \n",
    "df_features.shape"
   ]
  },
  {
   "cell_type": "code",
   "execution_count": 7,
   "metadata": {},
   "outputs": [
    {
     "data": {
      "text/plain": [
       "(2934, 9)"
      ]
     },
     "execution_count": 7,
     "metadata": {},
     "output_type": "execute_result"
    }
   ],
   "source": [
    "df_features = df_features.dropna()\n",
    "df_features.shape"
   ]
  },
  {
   "cell_type": "code",
   "execution_count": 8,
   "metadata": {},
   "outputs": [],
   "source": [
    "data_array = df_features.to_numpy()"
   ]
  },
  {
   "cell_type": "code",
   "execution_count": 11,
   "metadata": {},
   "outputs": [],
   "source": [
    "categorical_columns = [0, 1, 2, 3, 5, 6, 7, 8]  # вік, освіта, стать, партнер, лгбт, одружений, зустрілися онлайн"
   ]
  },
  {
   "cell_type": "code",
   "execution_count": 10,
   "metadata": {},
   "outputs": [
    {
     "data": {
      "text/html": [
       "<div>\n",
       "<style scoped>\n",
       "    .dataframe tbody tr th:only-of-type {\n",
       "        vertical-align: middle;\n",
       "    }\n",
       "\n",
       "    .dataframe tbody tr th {\n",
       "        vertical-align: top;\n",
       "    }\n",
       "\n",
       "    .dataframe thead th {\n",
       "        text-align: right;\n",
       "    }\n",
       "</style>\n",
       "<table border=\"1\" class=\"dataframe\">\n",
       "  <thead>\n",
       "    <tr style=\"text-align: right;\">\n",
       "      <th></th>\n",
       "      <th>ppagecat</th>\n",
       "      <th>ppeducat</th>\n",
       "      <th>ppgender</th>\n",
       "      <th>ppincimp</th>\n",
       "      <th>children_in_hh</th>\n",
       "      <th>qflag</th>\n",
       "      <th>glbstatus</th>\n",
       "      <th>married</th>\n",
       "      <th>q24_met_online</th>\n",
       "    </tr>\n",
       "  </thead>\n",
       "  <tbody>\n",
       "    <tr>\n",
       "      <th>0</th>\n",
       "      <td>4</td>\n",
       "      <td>4</td>\n",
       "      <td>2</td>\n",
       "      <td>7</td>\n",
       "      <td>0</td>\n",
       "      <td>1</td>\n",
       "      <td>1</td>\n",
       "      <td>0</td>\n",
       "      <td>1.0</td>\n",
       "    </tr>\n",
       "    <tr>\n",
       "      <th>1</th>\n",
       "      <td>2</td>\n",
       "      <td>4</td>\n",
       "      <td>2</td>\n",
       "      <td>11</td>\n",
       "      <td>0</td>\n",
       "      <td>1</td>\n",
       "      <td>1</td>\n",
       "      <td>1</td>\n",
       "      <td>0.0</td>\n",
       "    </tr>\n",
       "    <tr>\n",
       "      <th>3</th>\n",
       "      <td>2</td>\n",
       "      <td>3</td>\n",
       "      <td>1</td>\n",
       "      <td>11</td>\n",
       "      <td>0</td>\n",
       "      <td>1</td>\n",
       "      <td>1</td>\n",
       "      <td>0</td>\n",
       "      <td>1.0</td>\n",
       "    </tr>\n",
       "    <tr>\n",
       "      <th>6</th>\n",
       "      <td>4</td>\n",
       "      <td>4</td>\n",
       "      <td>1</td>\n",
       "      <td>17</td>\n",
       "      <td>0</td>\n",
       "      <td>1</td>\n",
       "      <td>1</td>\n",
       "      <td>0</td>\n",
       "      <td>0.0</td>\n",
       "    </tr>\n",
       "    <tr>\n",
       "      <th>7</th>\n",
       "      <td>5</td>\n",
       "      <td>4</td>\n",
       "      <td>1</td>\n",
       "      <td>6</td>\n",
       "      <td>0</td>\n",
       "      <td>1</td>\n",
       "      <td>1</td>\n",
       "      <td>1</td>\n",
       "      <td>0.0</td>\n",
       "    </tr>\n",
       "  </tbody>\n",
       "</table>\n",
       "</div>"
      ],
      "text/plain": [
       "   ppagecat  ppeducat  ppgender  ppincimp  children_in_hh  qflag  glbstatus  \\\n",
       "0         4         4         2         7               0      1          1   \n",
       "1         2         4         2        11               0      1          1   \n",
       "3         2         3         1        11               0      1          1   \n",
       "6         4         4         1        17               0      1          1   \n",
       "7         5         4         1         6               0      1          1   \n",
       "\n",
       "   married  q24_met_online  \n",
       "0        0             1.0  \n",
       "1        1             0.0  \n",
       "3        0             1.0  \n",
       "6        0             0.0  \n",
       "7        1             0.0  "
      ]
     },
     "execution_count": 10,
     "metadata": {},
     "output_type": "execute_result"
    }
   ],
   "source": [
    "df_features.head()"
   ]
  },
  {
   "cell_type": "code",
   "execution_count": 12,
   "metadata": {},
   "outputs": [
    {
     "name": "stdout",
     "output_type": "stream",
     "text": [
      "   ppagecat  ppeducat  ppgender  ppincimp  children_in_hh  qflag  glbstatus  \\\n",
      "0         4         4         2         7               0      1          1   \n",
      "1         2         4         2        11               0      1          1   \n",
      "3         2         3         1        11               0      1          1   \n",
      "6         4         4         1        17               0      1          1   \n",
      "7         5         4         1         6               0      1          1   \n",
      "\n",
      "   married  q24_met_online  Cluster  \n",
      "0        0             1.0        0  \n",
      "1        1             0.0        2  \n",
      "3        0             1.0        2  \n",
      "6        0             0.0        0  \n",
      "7        1             0.0        0  \n"
     ]
    }
   ],
   "source": [
    "kproto = KPrototypes(n_clusters=3, init='Huang', random_state=42)\n",
    "clusters = kproto.fit_predict(data_array, categorical=categorical_columns)\n",
    "\n",
    "# Додаємо кластери до таблиці\n",
    "df_features['Cluster'] = clusters\n",
    "\n",
    "print(df_features.head())"
   ]
  },
  {
   "cell_type": "code",
   "execution_count": 14,
   "metadata": {},
   "outputs": [
    {
     "data": {
      "image/png": "[encoded data removed]",
      "text/plain": [
       "<Figure size 640x480 with 1 Axes>"
      ]
     },
     "metadata": {},
     "output_type": "display_data"
    }
   ],
   "source": [
    "sns.scatterplot(x=df_features['q24_met_online'], y=df_features['glbstatus'], hue=df_features['Cluster'], palette=\"viridis\", s=100)\n",
    "plt.xlabel(\"Met online\")\n",
    "plt.ylabel(\"GLB status\")\n",
    "plt.title(\"K-Prototypes Clustering\")\n",
    "plt.show()"
   ]
  },
  {
   "cell_type": "code",
   "execution_count": 15,
   "metadata": {},
   "outputs": [
    {
     "name": "stdout",
     "output_type": "stream",
     "text": [
      "         ppagecat  ppeducat  ppgender   ppincimp  children_in_hh  qflag  \\\n",
      "Cluster                                                                   \n",
      "0        3.847964  3.141176  1.165611  12.663348        0.209050    1.0   \n",
      "1        2.868778  2.816742  1.438914  12.515837        2.414027    1.0   \n",
      "2        3.818313  2.744052  1.776496  11.456381        0.087960    1.0   \n",
      "\n",
      "         glbstatus   married  q24_met_online  \n",
      "Cluster                                       \n",
      "0         0.282353  0.619910        0.104072  \n",
      "1         0.126697  0.825792        0.065611  \n",
      "2         0.225667  0.598414        0.090844  \n"
     ]
    }
   ],
   "source": [
    "print(df_features.groupby(\"Cluster\").mean())"
   ]
  }
 ],
 "metadata": {
  "kernelspec": {
   "display_name": "Python 3",
   "language": "python",
   "name": "python3"
  },
  "language_info": {
   "codemirror_mode": {
    "name": "ipython",
    "version": 3
   },
   "file_extension": ".py",
   "mimetype": "text/x-python",
   "name": "python",
   "nbconvert_exporter": "python",
   "pygments_lexer": "ipython3",
   "version": "3.12.6"
  }
 },
 "nbformat": 4,
 "nbformat_minor": 2
}
